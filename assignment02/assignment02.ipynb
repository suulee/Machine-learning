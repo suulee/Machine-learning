{
  "nbformat": 4,
  "nbformat_minor": 0,
  "metadata": {
    "kernelspec": {
      "name": "python3",
      "display_name": "Python 3"
    },
    "language_info": {
      "codemirror_mode": {
        "name": "ipython",
        "version": 3
      },
      "file_extension": ".py",
      "mimetype": "text/x-python",
      "name": "python",
      "nbconvert_exporter": "python",
      "pygments_lexer": "ipython3",
      "version": "3.6.10"
    },
    "colab": {
      "name": "assignment02.ipynb",
      "provenance": [],
      "collapsed_sections": [],
      "include_colab_link": true
    },
    "accelerator": "GPU"
  },
  "cells": [
    {
      "cell_type": "markdown",
      "metadata": {
        "id": "view-in-github",
        "colab_type": "text"
      },
      "source": [
        "<a href=\"https://colab.research.google.com/github/suulee/Machine-learning/blob/master/assignment02/assignment02.ipynb\" target=\"_parent\"><img src=\"https://colab.research.google.com/assets/colab-badge.svg\" alt=\"Open In Colab\"/></a>"
      ]
    },
    {
      "cell_type": "markdown",
      "metadata": {
        "id": "5TOFSj_h7NDs",
        "colab_type": "text"
      },
      "source": [
        "# **Assignment02**\n",
        "Name: Lee Suyoung\n",
        "\n",
        "\n",
        "Student ID: 20164111"
      ]
    },
    {
      "cell_type": "code",
      "metadata": {
        "id": "v-pxZna-0loy",
        "colab_type": "code",
        "colab": {}
      },
      "source": [
        "!pip install tensorflow==1.12.0\n",
        "import tensorflow as tf\n",
        "import numpy as np\n",
        "import matplotlib.pyplot as plt"
      ],
      "execution_count": 0,
      "outputs": []
    },
    {
      "cell_type": "markdown",
      "metadata": {
        "id": "heNwUVpn77eU",
        "colab_type": "text"
      },
      "source": [
        "## **1. Set variables**"
      ]
    },
    {
      "cell_type": "code",
      "metadata": {
        "id": "g_R33X-T0lo2",
        "colab_type": "code",
        "colab": {}
      },
      "source": [
        "num=100  #number of trainning data\n",
        "std =5  #std of trainning data \n",
        "\n",
        "## define function\n",
        "def fun(x):\n",
        "    f=3*x+2\n",
        "    return f\n",
        "  \n",
        "## set trainning data\n",
        "n = np.random.rand(num)\n",
        "nn = n - np.mean(n)\n",
        "xData = np.linspace(-10,10,num)\n",
        "Y_func = fun(xData)\n",
        "yData = Y_func + nn * std\n",
        "\n",
        "## set theta variables\n",
        "theta1=tf.Variable(tf.random_normal([1],name='weight'))\n",
        "theta0=tf.Variable(tf.random_normal([1],name='bias'))\n",
        "X=tf.placeholder(tf.float32)\n",
        "Y=tf.placeholder(tf.float32)\n",
        "cost_history=[]\n",
        "theta1_history=[]\n",
        "theta0_history=[]\n",
        "\n",
        "## hypothesis XW+b\n",
        "H= X*theta1 + theta0"
      ],
      "execution_count": 0,
      "outputs": []
    },
    {
      "cell_type": "markdown",
      "metadata": {
        "id": "eCRb8wVW8Kz1",
        "colab_type": "text"
      },
      "source": [
        "## **2. Cost function and Gradient Descent**"
      ]
    },
    {
      "cell_type": "code",
      "metadata": {
        "id": "p-stJveX0lo5",
        "colab_type": "code",
        "colab": {}
      },
      "source": [
        "## cost function\n",
        "cost=0.5*tf.reduce_mean(tf.square(H-Y))\n",
        "\n",
        "## minimize\n",
        "optimizer=tf.train.GradientDescentOptimizer(learning_rate=0.01)\n",
        "train=optimizer.minimize(cost)"
      ],
      "execution_count": 0,
      "outputs": []
    },
    {
      "cell_type": "markdown",
      "metadata": {
        "id": "Xk7d2Q7B8pcJ",
        "colab_type": "text"
      },
      "source": [
        "## **3. Fit the data**"
      ]
    },
    {
      "cell_type": "code",
      "metadata": {
        "id": "IwdPCcs20lo8",
        "colab_type": "code",
        "colab": {}
      },
      "source": [
        "## launch the graph in a session\n",
        "sess=tf.Session()\n",
        "\n",
        "## initializes the graph in a session\n",
        "sess.run(tf.global_variables_initializer())\n",
        "\n",
        "## fit the line with new trainig data\n",
        "for step in range(3001):\n",
        "    sess.run(train,feed_dict={X:xData, Y:yData})\n",
        "    \n",
        "    # save the history\n",
        "    theta0_history.extend(sess.run(theta0,feed_dict={X:xData, Y:yData}))\n",
        "    theta1_history.extend(sess.run(theta1,feed_dict={X:xData, Y:yData}))\n",
        "    cost_history.append(sess.run(cost,feed_dict={X:xData, Y:yData}))"
      ],
      "execution_count": 0,
      "outputs": []
    },
    {
      "cell_type": "markdown",
      "metadata": {
        "id": "xBCMVOd49J-9",
        "colab_type": "text"
      },
      "source": [
        "## **4. Plotting the results**"
      ]
    },
    {
      "cell_type": "markdown",
      "metadata": {
        "id": "t9eKLQ5P9UqL",
        "colab_type": "text"
      },
      "source": [
        "4.1. input data"
      ]
    },
    {
      "cell_type": "code",
      "metadata": {
        "id": "ug4r4wwN9RMr",
        "colab_type": "code",
        "outputId": "60407210-dc44-48c2-e900-3f697e3fdb97",
        "colab": {
          "base_uri": "https://localhost:8080/",
          "height": 265
        }
      },
      "source": [
        "plt.scatter(xData,yData,color='black',s=3) # trainning data\n",
        "plt.plot(xData,Y_func,color='blue') ## y=3x+2\n",
        "plt.show()"
      ],
      "execution_count": 5,
      "outputs": [
        {
          "output_type": "display_data",
          "data": {
            "image/png": "[encoded data removed]",
            "text/plain": [
              "<Figure size 432x288 with 1 Axes>"
            ]
          },
          "metadata": {
            "tags": []
          }
        }
      ]
    },
    {
      "cell_type": "markdown",
      "metadata": {
        "id": "AUuekwoU95AH",
        "colab_type": "text"
      },
      "source": [
        "4.2. output results"
      ]
    },
    {
      "cell_type": "code",
      "metadata": {
        "id": "G401fi_n9m0o",
        "colab_type": "code",
        "outputId": "65705972-1e9f-44f4-8863-0c6876ff8af8",
        "colab": {
          "base_uri": "https://localhost:8080/",
          "height": 265
        }
      },
      "source": [
        "## make output linear function\n",
        "def fun_H(x): \n",
        "    f=sess.run(theta1)*x + sess.run(theta0)\n",
        "    return f\n",
        "\n",
        "Y_plot=fun_H(xData)\n",
        "\n",
        "plt.scatter(xData,yData,color='black',s=3)\n",
        "plt.plot(xData,Y_plot,color='red')\n",
        "plt.show()"
      ],
      "execution_count": 6,
      "outputs": [
        {
          "output_type": "display_data",
          "data": {
            "image/png": "[encoded data removed]",
            "text/plain": [
              "<Figure size 432x288 with 1 Axes>"
            ]
          },
          "metadata": {
            "tags": []
          }
        }
      ]
    },
    {
      "cell_type": "markdown",
      "metadata": {
        "id": "fe-0AvLHOW7G",
        "colab_type": "text"
      },
      "source": [
        "4.3. Energy values\n"
      ]
    },
    {
      "cell_type": "code",
      "metadata": {
        "id": "AZt-5F2kINdl",
        "colab_type": "code",
        "outputId": "2df331f2-a35b-4ae8-9ee5-460df60dec4d",
        "colab": {
          "base_uri": "https://localhost:8080/",
          "height": 265
        }
      },
      "source": [
        "plt.plot(cost_history,color='blue')\n",
        "plt.show()"
      ],
      "execution_count": 7,
      "outputs": [
        {
          "output_type": "display_data",
          "data": {
            "image/png": "[encoded data removed]",
            "text/plain": [
              "<Figure size 432x288 with 1 Axes>"
            ]
          },
          "metadata": {
            "tags": []
          }
        }
      ]
    },
    {
      "cell_type": "markdown",
      "metadata": {
        "id": "Be-kUo90M6ig",
        "colab_type": "text"
      },
      "source": [
        "4.4 Modle parameters"
      ]
    },
    {
      "cell_type": "code",
      "metadata": {
        "id": "mMFD2bihOmDk",
        "colab_type": "code",
        "outputId": "c47c0b78-f567-4371-f70d-9e138a497059",
        "colab": {
          "base_uri": "https://localhost:8080/",
          "height": 265
        }
      },
      "source": [
        "plt.plot(theta0_history,color='red')\n",
        "plt.plot(theta1_history,color='blue')\n",
        "plt.show()"
      ],
      "execution_count": 8,
      "outputs": [
        {
          "output_type": "display_data",
          "data": {
            "image/png": "[encoded data removed]",
            "text/plain": [
              "<Figure size 432x288 with 1 Axes>"
            ]
          },
          "metadata": {
            "tags": []
          }
        }
      ]
    }
  ]
}