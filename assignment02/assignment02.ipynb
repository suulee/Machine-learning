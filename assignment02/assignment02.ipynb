{
  "nbformat": 4,
  "nbformat_minor": 0,
  "metadata": {
    "kernelspec": {
      "name": "python3",
      "display_name": "Python 3"
    },
    "language_info": {
      "codemirror_mode": {
        "name": "ipython",
        "version": 3
      },
      "file_extension": ".py",
      "mimetype": "text/x-python",
      "name": "python",
      "nbconvert_exporter": "python",
      "pygments_lexer": "ipython3",
      "version": "3.6.10"
    },
    "colab": {
      "name": "assignment02.ipynb",
      "provenance": [],
      "collapsed_sections": [],
      "include_colab_link": true
    },
    "accelerator": "GPU"
  },
  "cells": [
    {
      "cell_type": "markdown",
      "metadata": {
        "id": "view-in-github",
        "colab_type": "text"
      },
      "source": [
        "<a href=\"https://colab.research.google.com/github/suulee/Machine-learning/blob/master/assignment02.ipynb\" target=\"_parent\"><img src=\"https://colab.research.google.com/assets/colab-badge.svg\" alt=\"Open In Colab\"/></a>"
      ]
    },
    {
      "cell_type": "markdown",
      "metadata": {
        "id": "5TOFSj_h7NDs",
        "colab_type": "text"
      },
      "source": [
        "# **Assignment02**\n",
        "Name: Lee Suyoung\n",
        "\n",
        "\n",
        "Student ID: 20164111"
      ]
    },
    {
      "cell_type": "code",
      "metadata": {
        "id": "v-pxZna-0loy",
        "colab_type": "code",
        "colab": {
          "base_uri": "https://localhost:8080/",
          "height": 797
        },
        "outputId": "fd4a5e67-212c-4399-d4c3-282744562c20"
      },
      "source": [
        "!pip install tensorflow==1.12.0\n",
        "import tensorflow as tf\n",
        "import numpy as np\n",
        "import matplotlib.pyplot as plt"
      ],
      "execution_count": 1,
      "outputs": [
        {
          "output_type": "stream",
          "text": [
            "Collecting tensorflow==1.12.0\n",
            "\u001b[?25l  Downloading https://files.pythonhosted.org/packages/22/cc/ca70b78087015d21c5f3f93694107f34ebccb3be9624385a911d4b52ecef/tensorflow-1.12.0-cp36-cp36m-manylinux1_x86_64.whl (83.1MB)\n",
            "\u001b[K     |████████████████████████████████| 83.1MB 59kB/s \n",
            "\u001b[?25hRequirement already satisfied: termcolor>=1.1.0 in /usr/local/lib/python3.6/dist-packages (from tensorflow==1.12.0) (1.1.0)\n",
            "Requirement already satisfied: wheel>=0.26 in /usr/local/lib/python3.6/dist-packages (from tensorflow==1.12.0) (0.34.2)\n",
            "Collecting tensorboard<1.13.0,>=1.12.0\n",
            "\u001b[?25l  Downloading https://files.pythonhosted.org/packages/07/53/8d32ce9471c18f8d99028b7cef2e5b39ea8765bd7ef250ca05b490880971/tensorboard-1.12.2-py3-none-any.whl (3.0MB)\n",
            "\u001b[K     |████████████████████████████████| 3.1MB 48.0MB/s \n",
            "\u001b[?25hRequirement already satisfied: keras-applications>=1.0.6 in /usr/local/lib/python3.6/dist-packages (from tensorflow==1.12.0) (1.0.8)\n",
            "Requirement already satisfied: absl-py>=0.1.6 in /usr/local/lib/python3.6/dist-packages (from tensorflow==1.12.0) (0.9.0)\n",
            "Requirement already satisfied: grpcio>=1.8.6 in /usr/local/lib/python3.6/dist-packages (from tensorflow==1.12.0) (1.27.2)\n",
            "Requirement already satisfied: gast>=0.2.0 in /usr/local/lib/python3.6/dist-packages (from tensorflow==1.12.0) (0.3.3)\n",
            "Requirement already satisfied: six>=1.10.0 in /usr/local/lib/python3.6/dist-packages (from tensorflow==1.12.0) (1.12.0)\n",
            "Requirement already satisfied: numpy>=1.13.3 in /usr/local/lib/python3.6/dist-packages (from tensorflow==1.12.0) (1.18.2)\n",
            "Requirement already satisfied: keras-preprocessing>=1.0.5 in /usr/local/lib/python3.6/dist-packages (from tensorflow==1.12.0) (1.1.0)\n",
            "Requirement already satisfied: astor>=0.6.0 in /usr/local/lib/python3.6/dist-packages (from tensorflow==1.12.0) (0.8.1)\n",
            "Requirement already satisfied: protobuf>=3.6.1 in /usr/local/lib/python3.6/dist-packages (from tensorflow==1.12.0) (3.10.0)\n",
            "Requirement already satisfied: werkzeug>=0.11.10 in /usr/local/lib/python3.6/dist-packages (from tensorboard<1.13.0,>=1.12.0->tensorflow==1.12.0) (1.0.1)\n",
            "Requirement already satisfied: markdown>=2.6.8 in /usr/local/lib/python3.6/dist-packages (from tensorboard<1.13.0,>=1.12.0->tensorflow==1.12.0) (3.2.1)\n",
            "Requirement already satisfied: h5py in /usr/local/lib/python3.6/dist-packages (from keras-applications>=1.0.6->tensorflow==1.12.0) (2.10.0)\n",
            "Requirement already satisfied: setuptools in /usr/local/lib/python3.6/dist-packages (from protobuf>=3.6.1->tensorflow==1.12.0) (46.1.3)\n",
            "Installing collected packages: tensorboard, tensorflow\n",
            "  Found existing installation: tensorboard 2.2.0\n",
            "    Uninstalling tensorboard-2.2.0:\n",
            "      Successfully uninstalled tensorboard-2.2.0\n",
            "  Found existing installation: tensorflow 2.2.0rc2\n",
            "    Uninstalling tensorflow-2.2.0rc2:\n",
            "      Successfully uninstalled tensorflow-2.2.0rc2\n",
            "Successfully installed tensorboard-1.12.2 tensorflow-1.12.0\n"
          ],
          "name": "stdout"
        },
        {
          "output_type": "stream",
          "text": [
            "/usr/local/lib/python3.6/dist-packages/tensorflow/python/framework/dtypes.py:523: FutureWarning: Passing (type, 1) or '1type' as a synonym of type is deprecated; in a future version of numpy, it will be understood as (type, (1,)) / '(1,)type'.\n",
            "  _np_qint8 = np.dtype([(\"qint8\", np.int8, 1)])\n",
            "/usr/local/lib/python3.6/dist-packages/tensorflow/python/framework/dtypes.py:524: FutureWarning: Passing (type, 1) or '1type' as a synonym of type is deprecated; in a future version of numpy, it will be understood as (type, (1,)) / '(1,)type'.\n",
            "  _np_quint8 = np.dtype([(\"quint8\", np.uint8, 1)])\n",
            "/usr/local/lib/python3.6/dist-packages/tensorflow/python/framework/dtypes.py:525: FutureWarning: Passing (type, 1) or '1type' as a synonym of type is deprecated; in a future version of numpy, it will be understood as (type, (1,)) / '(1,)type'.\n",
            "  _np_qint16 = np.dtype([(\"qint16\", np.int16, 1)])\n",
            "/usr/local/lib/python3.6/dist-packages/tensorflow/python/framework/dtypes.py:526: FutureWarning: Passing (type, 1) or '1type' as a synonym of type is deprecated; in a future version of numpy, it will be understood as (type, (1,)) / '(1,)type'.\n",
            "  _np_quint16 = np.dtype([(\"quint16\", np.uint16, 1)])\n",
            "/usr/local/lib/python3.6/dist-packages/tensorflow/python/framework/dtypes.py:527: FutureWarning: Passing (type, 1) or '1type' as a synonym of type is deprecated; in a future version of numpy, it will be understood as (type, (1,)) / '(1,)type'.\n",
            "  _np_qint32 = np.dtype([(\"qint32\", np.int32, 1)])\n",
            "/usr/local/lib/python3.6/dist-packages/tensorflow/python/framework/dtypes.py:532: FutureWarning: Passing (type, 1) or '1type' as a synonym of type is deprecated; in a future version of numpy, it will be understood as (type, (1,)) / '(1,)type'.\n",
            "  np_resource = np.dtype([(\"resource\", np.ubyte, 1)])\n"
          ],
          "name": "stderr"
        },
        {
          "output_type": "display_data",
          "data": {
            "text/html": [
              "<p style=\"color: red;\">\n",
              "The default version of TensorFlow in Colab will switch to TensorFlow 2.x on the 27th of March, 2020.<br>\n",
              "We recommend you <a href=\"https://www.tensorflow.org/guide/migrate\" target=\"_blank\">upgrade</a> now\n",
              "or ensure your notebook will continue to use TensorFlow 1.x via the <code>%tensorflow_version 1.x</code> magic:\n",
              "<a href=\"https://colab.research.google.com/notebooks/tensorflow_version.ipynb\" target=\"_blank\">more info</a>.</p>\n"
            ],
            "text/plain": [
              "<IPython.core.display.HTML object>"
            ]
          },
          "metadata": {
            "tags": []
          }
        }
      ]
    },
    {
      "cell_type": "markdown",
      "metadata": {
        "id": "heNwUVpn77eU",
        "colab_type": "text"
      },
      "source": [
        "## **1. Set variables**"
      ]
    },
    {
      "cell_type": "code",
      "metadata": {
        "id": "g_R33X-T0lo2",
        "colab_type": "code",
        "colab": {}
      },
      "source": [
        "num=100 \n",
        "std =5 \n",
        "\n",
        "def fun(x):\n",
        "    f=3*x+2\n",
        "    return f\n",
        "  \n",
        "\n",
        "n = np.random.rand(num)\n",
        "nn = n - np.mean(n)\n",
        "xData = np.linspace(-10,10,num)\n",
        "Y_func = fun(xData)\n",
        "yData = Y_func + nn * std\n",
        "\n",
        "W=tf.Variable(tf.random_normal([1],name='weight'))\n",
        "b=tf.Variable(tf.random_normal([1],name='bias'))\n",
        "X=tf.placeholder(tf.float32)\n",
        "Y=tf.placeholder(tf.float32)\n",
        "\n",
        "## hypothesis XW+b\n",
        "H= X*W+b"
      ],
      "execution_count": 0,
      "outputs": []
    },
    {
      "cell_type": "markdown",
      "metadata": {
        "id": "eCRb8wVW8Kz1",
        "colab_type": "text"
      },
      "source": [
        "## **2. Cost function and Gradient Descent**"
      ]
    },
    {
      "cell_type": "code",
      "metadata": {
        "id": "p-stJveX0lo5",
        "colab_type": "code",
        "colab": {}
      },
      "source": [
        "##cost/loss function\n",
        "cost=0.5*tf.reduce_mean(tf.square(H-Y))\n",
        "\n",
        "##minimize\n",
        "optimizer=tf.train.GradientDescentOptimizer(learning_rate=0.01)\n",
        "train=optimizer.minimize(cost)\n"
      ],
      "execution_count": 0,
      "outputs": []
    },
    {
      "cell_type": "markdown",
      "metadata": {
        "id": "Xk7d2Q7B8pcJ",
        "colab_type": "text"
      },
      "source": [
        "## **3. Fit the data**"
      ]
    },
    {
      "cell_type": "code",
      "metadata": {
        "id": "IwdPCcs20lo8",
        "colab_type": "code",
        "colab": {}
      },
      "source": [
        "##launch the graph in a session\n",
        "sess=tf.Session()\n",
        "\n",
        "##initializes the graph in a session\n",
        "sess.run(tf.global_variables_initializer())\n",
        "\n",
        "#fit the line with new trainig data\n",
        "for step in range(3001):\n",
        "    sess.run(train,feed_dict={X:xData, Y:yData})"
      ],
      "execution_count": 0,
      "outputs": []
    },
    {
      "cell_type": "markdown",
      "metadata": {
        "id": "xBCMVOd49J-9",
        "colab_type": "text"
      },
      "source": [
        "## **4. Plotting the results**"
      ]
    },
    {
      "cell_type": "markdown",
      "metadata": {
        "id": "t9eKLQ5P9UqL",
        "colab_type": "text"
      },
      "source": [
        "4.1. input data"
      ]
    },
    {
      "cell_type": "code",
      "metadata": {
        "id": "ug4r4wwN9RMr",
        "colab_type": "code",
        "outputId": "9ceee01c-9d16-4eae-bcc9-3fd9726d056d",
        "colab": {
          "base_uri": "https://localhost:8080/",
          "height": 299
        }
      },
      "source": [
        "plt.plot(xData,yData,'k.',xData,Y_func,'b.')"
      ],
      "execution_count": 5,
      "outputs": [
        {
          "output_type": "execute_result",
          "data": {
            "text/plain": [
              "[<matplotlib.lines.Line2D at 0x7f8ba42d35f8>,\n",
              " <matplotlib.lines.Line2D at 0x7f8ba42d3748>]"
            ]
          },
          "metadata": {
            "tags": []
          },
          "execution_count": 5
        },
        {
          "output_type": "display_data",
          "data": {
            "image/png": "[encoded data removed]",
            "text/plain": [
              "<Figure size 432x288 with 1 Axes>"
            ]
          },
          "metadata": {
            "tags": []
          }
        }
      ]
    },
    {
      "cell_type": "markdown",
      "metadata": {
        "id": "AUuekwoU95AH",
        "colab_type": "text"
      },
      "source": [
        "4.2. output results"
      ]
    },
    {
      "cell_type": "code",
      "metadata": {
        "id": "G401fi_n9m0o",
        "colab_type": "code",
        "outputId": "549c4e53-6d09-4b75-e23a-87b69a0f68a4",
        "colab": {
          "base_uri": "https://localhost:8080/",
          "height": 299
        }
      },
      "source": [
        "def fun_H(x):\n",
        "    f=sess.run(W)*x+sess.run(b)\n",
        "    return f\n",
        "Y_plot=fun_H(xData)\n",
        "\n",
        "plt.plot(xData,yData,'k.',xData,Y_plot,'r.')"
      ],
      "execution_count": 6,
      "outputs": [
        {
          "output_type": "execute_result",
          "data": {
            "text/plain": [
              "[<matplotlib.lines.Line2D at 0x7f8ba3db3668>,\n",
              " <matplotlib.lines.Line2D at 0x7f8ba3db3748>]"
            ]
          },
          "metadata": {
            "tags": []
          },
          "execution_count": 6
        },
        {
          "output_type": "display_data",
          "data": {
            "image/png": "[encoded data removed]",
            "text/plain": [
              "<Figure size 432x288 with 1 Axes>"
            ]
          },
          "metadata": {
            "tags": []
          }
        }
      ]
    },
    {
      "cell_type": "markdown",
      "metadata": {
        "id": "fe-0AvLHOW7G",
        "colab_type": "text"
      },
      "source": [
        "4.3. Energy values\n"
      ]
    },
    {
      "cell_type": "code",
      "metadata": {
        "id": "AZt-5F2kINdl",
        "colab_type": "code",
        "outputId": "4d4c4ec4-2503-410f-c66a-519c517a61ef",
        "colab": {
          "base_uri": "https://localhost:8080/",
          "height": 265
        }
      },
      "source": [
        "sess.run(tf.global_variables_initializer())\n",
        "\n",
        "for step in range(3001):\n",
        "    sess.run(train,feed_dict={X:xData, Y:yData})\n",
        "    plt.plot(step,sess.run(cost,feed_dict={X:xData, Y:yData}),'b.')"
      ],
      "execution_count": 7,
      "outputs": [
        {
          "output_type": "display_data",
          "data": {
            "image/png": "[encoded data removed]",
            "text/plain": [
              "<Figure size 432x288 with 1 Axes>"
            ]
          },
          "metadata": {
            "tags": []
          }
        }
      ]
    },
    {
      "cell_type": "markdown",
      "metadata": {
        "id": "Be-kUo90M6ig",
        "colab_type": "text"
      },
      "source": [
        "4.4 Modle parameters"
      ]
    },
    {
      "cell_type": "code",
      "metadata": {
        "id": "mMFD2bihOmDk",
        "colab_type": "code",
        "colab": {
          "base_uri": "https://localhost:8080/",
          "height": 265
        },
        "outputId": "746bd789-cd2f-4b9d-a538-a06c07cec31a"
      },
      "source": [
        "sess.run(tf.global_variables_initializer())\n",
        "\n",
        "for step in range(3001):\n",
        "    sess.run(train,feed_dict={X:xData, Y:yData})\n",
        "    plt.plot(step,sess.run(W,feed_dict={X:xData, Y:yData}),'b.')\n",
        "    plt.plot(step,sess.run(b,feed_dict={X:xData, Y:yData}),'r.')"
      ],
      "execution_count": 12,
      "outputs": [
        {
          "output_type": "display_data",
          "data": {
            "image/png": "[encoded data removed]",
            "text/plain": [
              "<Figure size 432x288 with 1 Axes>"
            ]
          },
          "metadata": {
            "tags": []
          }
        }
      ]
    },
    {
      "cell_type": "code",
      "metadata": {
        "id": "9ElkBGA5Nmqm",
        "colab_type": "code",
        "colab": {}
      },
      "source": [
        ""
      ],
      "execution_count": 0,
      "outputs": []
    }
  ]
}