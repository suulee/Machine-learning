{
  "nbformat": 4,
  "nbformat_minor": 0,
  "metadata": {
    "kernelspec": {
      "name": "python3",
      "display_name": "Python 3"
    },
    "language_info": {
      "codemirror_mode": {
        "name": "ipython",
        "version": 3
      },
      "file_extension": ".py",
      "mimetype": "text/x-python",
      "name": "python",
      "nbconvert_exporter": "python",
      "pygments_lexer": "ipython3",
      "version": "3.6.10"
    },
    "colab": {
      "name": "assignment02.ipynb",
      "provenance": [],
      "collapsed_sections": [],
      "include_colab_link": true
    },
    "accelerator": "GPU"
  },
  "cells": [
    {
      "cell_type": "markdown",
      "metadata": {
        "id": "view-in-github",
        "colab_type": "text"
      },
      "source": [
        "<a href=\"https://colab.research.google.com/github/suulee/Machine-learning/blob/master/assignment02.ipynb\" target=\"_parent\"><img src=\"https://colab.research.google.com/assets/colab-badge.svg\" alt=\"Open In Colab\"/></a>"
      ]
    },
    {
      "cell_type": "markdown",
      "metadata": {
        "id": "5TOFSj_h7NDs",
        "colab_type": "text"
      },
      "source": [
        "# **Assignment02**\n",
        "Name: Lee Suyoung\n",
        "\n",
        "\n",
        "Student ID: 20164111"
      ]
    },
    {
      "cell_type": "code",
      "metadata": {
        "id": "v-pxZna-0loy",
        "colab_type": "code",
        "colab": {}
      },
      "source": [
        "!pip install tensorflow==1.12.0\n",
        "import tensorflow as tf\n",
        "import numpy as np\n",
        "import matplotlib.pyplot as plt"
      ],
      "execution_count": 0,
      "outputs": []
    },
    {
      "cell_type": "markdown",
      "metadata": {
        "id": "heNwUVpn77eU",
        "colab_type": "text"
      },
      "source": [
        "## **1. Set variables**"
      ]
    },
    {
      "cell_type": "code",
      "metadata": {
        "id": "g_R33X-T0lo2",
        "colab_type": "code",
        "colab": {}
      },
      "source": [
        "num=100 \n",
        "std =5 \n",
        "\n",
        "def fun(x):\n",
        "    f=3*x+2\n",
        "    return f\n",
        "\n",
        "n = np.random.rand(num)\n",
        "nn = n - np.mean(n)\n",
        "xData = np.linspace(-10,10,num)\n",
        "Y_func = fun(xData)\n",
        "yData = Y_func + nn * std\n",
        "\n",
        "W=tf.Variable(tf.random_normal([1],name='weight'))\n",
        "b=tf.Variable(tf.random_normal([1],name='bias'))\n",
        "X=tf.placeholder(tf.float32)\n",
        "Y=tf.placeholder(tf.float32)\n",
        "\n",
        "## hypothesis XW+b\n",
        "H= X*W+b"
      ],
      "execution_count": 0,
      "outputs": []
    },
    {
      "cell_type": "markdown",
      "metadata": {
        "id": "eCRb8wVW8Kz1",
        "colab_type": "text"
      },
      "source": [
        "## **2. Cost function and Gradient Descent**"
      ]
    },
    {
      "cell_type": "code",
      "metadata": {
        "id": "p-stJveX0lo5",
        "colab_type": "code",
        "colab": {}
      },
      "source": [
        "##cost/loss function\n",
        "cost=0.5*tf.reduce_mean(tf.square(H-Y))\n",
        "\n",
        "##minimize\n",
        "optimizer=tf.train.GradientDescentOptimizer(learning_rate=0.01)\n",
        "train=optimizer.minimize(cost)\n"
      ],
      "execution_count": 0,
      "outputs": []
    },
    {
      "cell_type": "markdown",
      "metadata": {
        "id": "Xk7d2Q7B8pcJ",
        "colab_type": "text"
      },
      "source": [
        "## **3. Fit the data**"
      ]
    },
    {
      "cell_type": "code",
      "metadata": {
        "id": "IwdPCcs20lo8",
        "colab_type": "code",
        "colab": {}
      },
      "source": [
        "##launch the graph in a session\n",
        "sess=tf.Session()\n",
        "\n",
        "##initializes the graph in a session\n",
        "sess.run(tf.global_variables_initializer())\n",
        "\n",
        "#fit the line with new trainig data\n",
        "for step in range(3001):\n",
        "    sess.run(train,feed_dict={X:xData, Y:yData})"
      ],
      "execution_count": 0,
      "outputs": []
    },
    {
      "cell_type": "markdown",
      "metadata": {
        "id": "xBCMVOd49J-9",
        "colab_type": "text"
      },
      "source": [
        "## **4. Plotting the results**"
      ]
    },
    {
      "cell_type": "markdown",
      "metadata": {
        "id": "t9eKLQ5P9UqL",
        "colab_type": "text"
      },
      "source": [
        "4.1. input data"
      ]
    },
    {
      "cell_type": "code",
      "metadata": {
        "id": "ug4r4wwN9RMr",
        "colab_type": "code",
        "colab": {
          "base_uri": "https://localhost:8080/",
          "height": 299
        },
        "outputId": "9167de85-6c20-48ae-a712-64a351fe2c2c"
      },
      "source": [
        "plt.plot(xData,yData,'k.',xData,Y_func,'b.')"
      ],
      "execution_count": 6,
      "outputs": [
        {
          "output_type": "execute_result",
          "data": {
            "text/plain": [
              "[<matplotlib.lines.Line2D at 0x7f99b0228160>,\n",
              " <matplotlib.lines.Line2D at 0x7f99b0228240>]"
            ]
          },
          "metadata": {
            "tags": []
          },
          "execution_count": 6
        },
        {
          "output_type": "display_data",
          "data": {
            "image/png": "[encoded data removed]",
            "text/plain": [
              "<Figure size 432x288 with 1 Axes>"
            ]
          },
          "metadata": {
            "tags": []
          }
        }
      ]
    },
    {
      "cell_type": "code",
      "metadata": {
        "id": "G401fi_n9m0o",
        "colab_type": "code",
        "colab": {}
      },
      "source": [
        ""
      ],
      "execution_count": 0,
      "outputs": []
    }
  ]
}