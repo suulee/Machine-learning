{
  "nbformat": 4,
  "nbformat_minor": 0,
  "metadata": {
    "kernelspec": {
      "name": "python3",
      "display_name": "Python 3"
    },
    "language_info": {
      "codemirror_mode": {
        "name": "ipython",
        "version": 3
      },
      "file_extension": ".py",
      "mimetype": "text/x-python",
      "name": "python",
      "nbconvert_exporter": "python",
      "pygments_lexer": "ipython3",
      "version": "3.6.10"
    },
    "colab": {
      "name": "assignment02.ipynb",
      "provenance": [],
      "collapsed_sections": [],
      "include_colab_link": true
    },
    "accelerator": "GPU"
  },
  "cells": [
    {
      "cell_type": "markdown",
      "metadata": {
        "id": "view-in-github",
        "colab_type": "text"
      },
      "source": [
        "<a href=\"https://colab.research.google.com/github/suulee/Machine-learning/blob/master/assignment02.ipynb\" target=\"_parent\"><img src=\"https://colab.research.google.com/assets/colab-badge.svg\" alt=\"Open In Colab\"/></a>"
      ]
    },
    {
      "cell_type": "markdown",
      "metadata": {
        "id": "5TOFSj_h7NDs",
        "colab_type": "text"
      },
      "source": [
        "# **Assignment02**\n",
        "Name: Lee Suyoung\n",
        "\n",
        "\n",
        "Student ID: 20164111"
      ]
    },
    {
      "cell_type": "code",
      "metadata": {
        "id": "v-pxZna-0loy",
        "colab_type": "code",
        "outputId": "cf6914a8-c664-4184-b797-f12128297b7c",
        "colab": {
          "base_uri": "https://localhost:8080/",
          "height": 326
        }
      },
      "source": [
        "!pip install tensorflow==1.12.0\n",
        "import tensorflow as tf\n",
        "import numpy as np\n",
        "import matplotlib.pyplot as plt"
      ],
      "execution_count": 2,
      "outputs": [
        {
          "output_type": "stream",
          "text": [
            "Requirement already satisfied: tensorflow==1.12.0 in /usr/local/lib/python3.6/dist-packages (1.12.0)\n",
            "Requirement already satisfied: tensorboard<1.13.0,>=1.12.0 in /usr/local/lib/python3.6/dist-packages (from tensorflow==1.12.0) (1.12.2)\n",
            "Requirement already satisfied: termcolor>=1.1.0 in /usr/local/lib/python3.6/dist-packages (from tensorflow==1.12.0) (1.1.0)\n",
            "Requirement already satisfied: protobuf>=3.6.1 in /usr/local/lib/python3.6/dist-packages (from tensorflow==1.12.0) (3.10.0)\n",
            "Requirement already satisfied: gast>=0.2.0 in /usr/local/lib/python3.6/dist-packages (from tensorflow==1.12.0) (0.3.3)\n",
            "Requirement already satisfied: six>=1.10.0 in /usr/local/lib/python3.6/dist-packages (from tensorflow==1.12.0) (1.12.0)\n",
            "Requirement already satisfied: astor>=0.6.0 in /usr/local/lib/python3.6/dist-packages (from tensorflow==1.12.0) (0.8.1)\n",
            "Requirement already satisfied: keras-applications>=1.0.6 in /usr/local/lib/python3.6/dist-packages (from tensorflow==1.12.0) (1.0.8)\n",
            "Requirement already satisfied: wheel>=0.26 in /usr/local/lib/python3.6/dist-packages (from tensorflow==1.12.0) (0.34.2)\n",
            "Requirement already satisfied: keras-preprocessing>=1.0.5 in /usr/local/lib/python3.6/dist-packages (from tensorflow==1.12.0) (1.1.0)\n",
            "Requirement already satisfied: absl-py>=0.1.6 in /usr/local/lib/python3.6/dist-packages (from tensorflow==1.12.0) (0.9.0)\n",
            "Requirement already satisfied: grpcio>=1.8.6 in /usr/local/lib/python3.6/dist-packages (from tensorflow==1.12.0) (1.27.2)\n",
            "Requirement already satisfied: numpy>=1.13.3 in /usr/local/lib/python3.6/dist-packages (from tensorflow==1.12.0) (1.18.2)\n",
            "Requirement already satisfied: markdown>=2.6.8 in /usr/local/lib/python3.6/dist-packages (from tensorboard<1.13.0,>=1.12.0->tensorflow==1.12.0) (3.2.1)\n",
            "Requirement already satisfied: werkzeug>=0.11.10 in /usr/local/lib/python3.6/dist-packages (from tensorboard<1.13.0,>=1.12.0->tensorflow==1.12.0) (1.0.0)\n",
            "Requirement already satisfied: setuptools in /usr/local/lib/python3.6/dist-packages (from protobuf>=3.6.1->tensorflow==1.12.0) (46.0.0)\n",
            "Requirement already satisfied: h5py in /usr/local/lib/python3.6/dist-packages (from keras-applications>=1.0.6->tensorflow==1.12.0) (2.10.0)\n"
          ],
          "name": "stdout"
        }
      ]
    },
    {
      "cell_type": "markdown",
      "metadata": {
        "id": "heNwUVpn77eU",
        "colab_type": "text"
      },
      "source": [
        "## **1. Set variables**"
      ]
    },
    {
      "cell_type": "code",
      "metadata": {
        "id": "g_R33X-T0lo2",
        "colab_type": "code",
        "colab": {}
      },
      "source": [
        "num=100 \n",
        "std =5 \n",
        "\n",
        "def fun(x):\n",
        "    f=3*x+2\n",
        "    return f\n",
        "\n",
        "n = np.random.rand(num)\n",
        "nn = n - np.mean(n)\n",
        "xData = np.linspace(-10,10,num)\n",
        "Y_func = fun(xData)\n",
        "yData = Y_func + nn * std\n",
        "\n",
        "W=tf.Variable(tf.random_normal([1],name='weight'))\n",
        "b=tf.Variable(tf.random_normal([1],name='bias'))\n",
        "X=tf.placeholder(tf.float32)\n",
        "Y=tf.placeholder(tf.float32)\n",
        "\n",
        "## hypothesis XW+b\n",
        "H= X*W+b"
      ],
      "execution_count": 0,
      "outputs": []
    },
    {
      "cell_type": "markdown",
      "metadata": {
        "id": "eCRb8wVW8Kz1",
        "colab_type": "text"
      },
      "source": [
        "## **2. Cost function and Gradient Descent**"
      ]
    },
    {
      "cell_type": "code",
      "metadata": {
        "id": "p-stJveX0lo5",
        "colab_type": "code",
        "colab": {}
      },
      "source": [
        "##cost/loss function\n",
        "cost=0.5*tf.reduce_mean(tf.square(H-Y))\n",
        "\n",
        "##minimize\n",
        "optimizer=tf.train.GradientDescentOptimizer(learning_rate=0.01)\n",
        "train=optimizer.minimize(cost)\n"
      ],
      "execution_count": 0,
      "outputs": []
    },
    {
      "cell_type": "markdown",
      "metadata": {
        "id": "Xk7d2Q7B8pcJ",
        "colab_type": "text"
      },
      "source": [
        "## **3. Fit the data**"
      ]
    },
    {
      "cell_type": "code",
      "metadata": {
        "id": "IwdPCcs20lo8",
        "colab_type": "code",
        "colab": {}
      },
      "source": [
        "##launch the graph in a session\n",
        "sess=tf.Session()\n",
        "\n",
        "##initializes the graph in a session\n",
        "sess.run(tf.global_variables_initializer())\n",
        "\n",
        "#fit the line with new trainig data\n",
        "for step in range(3001):\n",
        "    sess.run(train,feed_dict={X:xData, Y:yData})"
      ],
      "execution_count": 0,
      "outputs": []
    }
  ]
}