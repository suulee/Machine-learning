{
  "nbformat": 4,
  "nbformat_minor": 0,
  "metadata": {
    "kernelspec": {
      "name": "python3",
      "display_name": "Python 3"
    },
    "language_info": {
      "codemirror_mode": {
        "name": "ipython",
        "version": 3
      },
      "file_extension": ".py",
      "mimetype": "text/x-python",
      "name": "python",
      "nbconvert_exporter": "python",
      "pygments_lexer": "ipython3",
      "version": "3.6.10"
    },
    "colab": {
      "name": "assignment02.ipynb",
      "provenance": [],
      "toc_visible": true,
      "include_colab_link": true
    },
    "accelerator": "GPU"
  },
  "cells": [
    {
      "cell_type": "markdown",
      "metadata": {
        "id": "view-in-github",
        "colab_type": "text"
      },
      "source": [
        "<a href=\"https://colab.research.google.com/github/suulee/Machine-learning/blob/master/assignment02-1-1.ipynb\" target=\"_parent\"><img src=\"https://colab.research.google.com/assets/colab-badge.svg\" alt=\"Open In Colab\"/></a>"
      ]
    },
    {
      "cell_type": "code",
      "metadata": {
        "id": "8_2Z3kuynyor",
        "colab_type": "code",
        "colab": {}
      },
      "source": [
        "import tensorflow as tf\n",
        "import numpy as np\n",
        "import matplotlib.pyplot as plt"
      ],
      "execution_count": 0,
      "outputs": []
    },
    {
      "cell_type": "code",
      "metadata": {
        "id": "TtjnL7aPvVY_",
        "colab_type": "code",
        "colab": {}
      },
      "source": [
        "from google.colab import drive\n",
        "drive.mount('/content/drive')"
      ],
      "execution_count": 0,
      "outputs": []
    },
    {
      "cell_type": "code",
      "metadata": {
        "id": "9WN91UNknyov",
        "colab_type": "code",
        "colab": {}
      },
      "source": [
        "num=100 #number of dataset\n",
        "std =5 #set std\n",
        "\n",
        "def fun(x):\n",
        "    f=3*x+2\n",
        "    return f\n",
        "\n",
        "n = np.random.rand(num)\n",
        "nn = n - np.mean(n)\n",
        "xData = np.linspace(-10,10,num)\n",
        "Y_func = fun(xData)\n",
        "yData = Y_func + nn * std\n"
      ],
      "execution_count": 0,
      "outputs": []
    },
    {
      "cell_type": "code",
      "metadata": {
        "id": "oCmzijUrnyoy",
        "colab_type": "code",
        "colab": {}
      },
      "source": [
        "W=tf.Variable(tf.random_normal([1],name='weight'))\n",
        "b=tf.Variable(tf.random_normal([1],name='bias'))\n",
        "\n",
        "X=tf.placeholder(tf.float32)\n",
        "Y=tf.placeholder(tf.float32)\n",
        "\n",
        "##hypothesis XW+b\n",
        "H= X*W+b\n",
        "\n"
      ],
      "execution_count": 0,
      "outputs": []
    },
    {
      "cell_type": "code",
      "metadata": {
        "id": "ZcFAcUQRnyo1",
        "colab_type": "code",
        "colab": {},
        "outputId": "4aa8782e-b6aa-435c-c003-9c308d4d9c0b"
      },
      "source": [
        "\n",
        "##cost/loss function\n",
        "cost=0.5*tf.reduce_mean(tf.square(H-Y))\n",
        "#a=tf.Variable(0.01)\n",
        "##minimize\n",
        "optimizer=tf.train.GradientDescentOptimizer(learning_rate=0.01)\n",
        "train=optimizer.minimize(cost)\n",
        "\n",
        "##launch the graph in a session\n",
        "sess=tf.Session()\n",
        "##initializes the graph in a session\n",
        "sess.run(tf.global_variables_initializer())\n",
        "#fit the line with new trainig data\n",
        "for step in range(3001):\n",
        "    sess.run(train,feed_dict={X:xData, Y:yData})\n",
        "    if step%100==0:\n",
        "        print(step,sess.run(cost,feed_dict={X:xData,Y:yData}),sess.run(W),sess.run(b))\n",
        "\n",
        "print(sess.run(H,feed_dict={X:[6]}))\n",
        "print(sess.run(W),sess.run(b))"
      ],
      "execution_count": 0,
      "outputs": [
        {
          "output_type": "stream",
          "text": [
            "0 75.64481 [0.9559921] [-0.5230661]\n",
            "100 1.5580667 [3.0041783] [1.0764759]\n",
            "200 1.1887534 [3.0041783] [1.6619604]\n",
            "300 1.139273 [3.0041783] [1.8762664]\n",
            "400 1.1326436 [3.0041783] [1.9547092]\n",
            "500 1.1317555 [3.0041783] [1.9834222]\n",
            "600 1.1316364 [3.0041783] [1.9939319]\n",
            "700 1.1316205 [3.0041783] [1.9977789]\n",
            "800 1.1316184 [3.0041783] [1.9991869]\n",
            "900 1.131618 [3.0041783] [1.9997023]\n",
            "1000 1.131618 [3.0041783] [1.999891]\n",
            "1100 1.131618 [3.0041783] [1.9999601]\n",
            "1200 1.131618 [3.0041783] [1.9999847]\n",
            "1300 1.131618 [3.0041783] [1.9999939]\n",
            "1400 1.131618 [3.0041783] [1.9999939]\n",
            "1500 1.131618 [3.0041783] [1.9999939]\n",
            "1600 1.131618 [3.0041783] [1.9999939]\n",
            "1700 1.131618 [3.0041783] [1.9999939]\n",
            "1800 1.131618 [3.0041783] [1.9999939]\n",
            "1900 1.131618 [3.0041783] [1.9999939]\n",
            "2000 1.131618 [3.0041783] [1.9999939]\n",
            "2100 1.131618 [3.0041783] [1.9999939]\n",
            "2200 1.131618 [3.0041783] [1.9999939]\n",
            "2300 1.131618 [3.0041783] [1.9999939]\n",
            "2400 1.131618 [3.0041783] [1.9999939]\n",
            "2500 1.131618 [3.0041783] [1.9999939]\n",
            "2600 1.131618 [3.0041783] [1.9999939]\n",
            "2700 1.131618 [3.0041783] [1.9999939]\n",
            "2800 1.131618 [3.0041783] [1.9999939]\n",
            "2900 1.131618 [3.0041783] [1.9999939]\n",
            "3000 1.131618 [3.0041783] [1.9999939]\n",
            "[20.025064]\n",
            "[3.0041783] [1.9999939]\n"
          ],
          "name": "stdout"
        }
      ]
    },
    {
      "cell_type": "code",
      "metadata": {
        "id": "rIs4b4ETnyo4",
        "colab_type": "code",
        "colab": {}
      },
      "source": [
        ""
      ],
      "execution_count": 0,
      "outputs": []
    }
  ]
}